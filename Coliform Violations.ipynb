{
 "cells": [
  {
   "cell_type": "code",
   "execution_count": 1,
   "metadata": {},
   "outputs": [],
   "source": [
    "file_path = ('/Users/ivynyayieka/Downloads/Coliform Folder/Coliform Violations - Coliform Violations.csv')"
   ]
  },
  {
   "cell_type": "code",
   "execution_count": 2,
   "metadata": {},
   "outputs": [],
   "source": [
    "import pandas as pd\n",
    "import pyproj\n",
    "import geopandas as gpd\n",
    "import shapely\n",
    "import warnings\n",
    "from shapely.errors import ShapelyDeprecationWarning\n",
    "import matplotlib.pyplot as plt\n",
    "# warnings.filterwarnings(\"ignore\", category=ShapelyDeprecationWarning) \n"
   ]
  },
  {
   "cell_type": "code",
   "execution_count": 3,
   "metadata": {},
   "outputs": [],
   "source": [
    "df = pd.read_csv ('/Users/ivynyayieka/Downloads/Coliform Folder/Coliform Violations - Coliform Violations.csv')"
   ]
  },
  {
   "cell_type": "code",
   "execution_count": 4,
   "metadata": {},
   "outputs": [
    {
     "data": {
      "text/html": [
       "<div>\n",
       "<style scoped>\n",
       "    .dataframe tbody tr th:only-of-type {\n",
       "        vertical-align: middle;\n",
       "    }\n",
       "\n",
       "    .dataframe tbody tr th {\n",
       "        vertical-align: top;\n",
       "    }\n",
       "\n",
       "    .dataframe thead th {\n",
       "        text-align: right;\n",
       "    }\n",
       "</style>\n",
       "<table border=\"1\" class=\"dataframe\">\n",
       "  <thead>\n",
       "    <tr style=\"text-align: right;\">\n",
       "      <th></th>\n",
       "      <th>Sample Site</th>\n",
       "      <th>Coliform (Quanti-Tray) (MPN /100mL)</th>\n",
       "      <th>X coordinate</th>\n",
       "      <th>Y coordinate</th>\n",
       "    </tr>\n",
       "  </thead>\n",
       "  <tbody>\n",
       "    <tr>\n",
       "      <th>0</th>\n",
       "      <td>13550</td>\n",
       "      <td>&gt;200.5</td>\n",
       "      <td>1008924</td>\n",
       "      <td>250942</td>\n",
       "    </tr>\n",
       "    <tr>\n",
       "      <th>1</th>\n",
       "      <td>1SCH3</td>\n",
       "      <td>&gt;200.5</td>\n",
       "      <td>1013921</td>\n",
       "      <td>259223</td>\n",
       "    </tr>\n",
       "    <tr>\n",
       "      <th>2</th>\n",
       "      <td>40200</td>\n",
       "      <td>&gt;200.5</td>\n",
       "      <td>1012206</td>\n",
       "      <td>222705</td>\n",
       "    </tr>\n",
       "    <tr>\n",
       "      <th>3</th>\n",
       "      <td>40650</td>\n",
       "      <td>&gt;200.5</td>\n",
       "      <td>1018876</td>\n",
       "      <td>216530</td>\n",
       "    </tr>\n",
       "    <tr>\n",
       "      <th>4</th>\n",
       "      <td>50300</td>\n",
       "      <td>&gt;200.5</td>\n",
       "      <td>955759</td>\n",
       "      <td>163383</td>\n",
       "    </tr>\n",
       "  </tbody>\n",
       "</table>\n",
       "</div>"
      ],
      "text/plain": [
       "  Sample Site Coliform (Quanti-Tray) (MPN /100mL)  X coordinate  Y coordinate\n",
       "0       13550                              >200.5       1008924        250942\n",
       "1       1SCH3                              >200.5       1013921        259223\n",
       "2       40200                              >200.5       1012206        222705\n",
       "3       40650                              >200.5       1018876        216530\n",
       "4       50300                              >200.5        955759        163383"
      ]
     },
     "execution_count": 4,
     "metadata": {},
     "output_type": "execute_result"
    }
   ],
   "source": [
    "df.head()"
   ]
  },
  {
   "cell_type": "code",
   "execution_count": null,
   "metadata": {},
   "outputs": [],
   "source": []
  },
  {
   "cell_type": "code",
   "execution_count": 5,
   "metadata": {},
   "outputs": [
    {
     "name": "stdout",
     "output_type": "stream",
     "text": [
      "    Sample Site Coliform (Quanti-Tray) (MPN /100mL)  X coordinate  \\\n",
      "0         13550                              >200.5       1008924   \n",
      "1         1SCH3                              >200.5       1013921   \n",
      "2         40200                              >200.5       1012206   \n",
      "3         40650                              >200.5       1018876   \n",
      "4         50300                              >200.5        955759   \n",
      "..          ...                                 ...           ...   \n",
      "295       46450                                   1       1035671   \n",
      "296       46950                                   1       1030452   \n",
      "297       47150                                   1       1033893   \n",
      "298       50200                                   1        960455   \n",
      "299       50300                                   1        955759   \n",
      "\n",
      "     Y coordinate                        geometry  \n",
      "0          250942  POINT (1008924.000 250942.000)  \n",
      "1          259223  POINT (1013921.000 259223.000)  \n",
      "2          222705  POINT (1012206.000 222705.000)  \n",
      "3          216530  POINT (1018876.000 216530.000)  \n",
      "4          163383   POINT (955759.000 163383.000)  \n",
      "..            ...                             ...  \n",
      "295        218150  POINT (1035671.000 218150.000)  \n",
      "296        196724  POINT (1030452.000 196724.000)  \n",
      "297        228531  POINT (1033893.000 228531.000)  \n",
      "298        169298   POINT (960455.000 169298.000)  \n",
      "299        163383   POINT (955759.000 163383.000)  \n",
      "\n",
      "[300 rows x 5 columns]\n"
     ]
    }
   ],
   "source": [
    "gdf = gpd.GeoDataFrame(df, \n",
    "                       geometry=gpd.points_from_xy(df['X coordinate'],df['Y coordinate']), \n",
    "                       crs=\"epsg:2263\")\n",
    "print(gdf)"
   ]
  },
  {
   "cell_type": "code",
   "execution_count": 6,
   "metadata": {},
   "outputs": [
    {
     "data": {
      "text/html": [
       "<div>\n",
       "<style scoped>\n",
       "    .dataframe tbody tr th:only-of-type {\n",
       "        vertical-align: middle;\n",
       "    }\n",
       "\n",
       "    .dataframe tbody tr th {\n",
       "        vertical-align: top;\n",
       "    }\n",
       "\n",
       "    .dataframe thead th {\n",
       "        text-align: right;\n",
       "    }\n",
       "</style>\n",
       "<table border=\"1\" class=\"dataframe\">\n",
       "  <thead>\n",
       "    <tr style=\"text-align: right;\">\n",
       "      <th></th>\n",
       "      <th>Sample Site</th>\n",
       "      <th>Coliform (Quanti-Tray) (MPN /100mL)</th>\n",
       "      <th>X coordinate</th>\n",
       "      <th>Y coordinate</th>\n",
       "      <th>geometry</th>\n",
       "    </tr>\n",
       "  </thead>\n",
       "  <tbody>\n",
       "    <tr>\n",
       "      <th>0</th>\n",
       "      <td>13550</td>\n",
       "      <td>&gt;200.5</td>\n",
       "      <td>1008924</td>\n",
       "      <td>250942</td>\n",
       "      <td>POINT (1008924.000 250942.000)</td>\n",
       "    </tr>\n",
       "    <tr>\n",
       "      <th>1</th>\n",
       "      <td>1SCH3</td>\n",
       "      <td>&gt;200.5</td>\n",
       "      <td>1013921</td>\n",
       "      <td>259223</td>\n",
       "      <td>POINT (1013921.000 259223.000)</td>\n",
       "    </tr>\n",
       "    <tr>\n",
       "      <th>2</th>\n",
       "      <td>40200</td>\n",
       "      <td>&gt;200.5</td>\n",
       "      <td>1012206</td>\n",
       "      <td>222705</td>\n",
       "      <td>POINT (1012206.000 222705.000)</td>\n",
       "    </tr>\n",
       "    <tr>\n",
       "      <th>3</th>\n",
       "      <td>40650</td>\n",
       "      <td>&gt;200.5</td>\n",
       "      <td>1018876</td>\n",
       "      <td>216530</td>\n",
       "      <td>POINT (1018876.000 216530.000)</td>\n",
       "    </tr>\n",
       "    <tr>\n",
       "      <th>4</th>\n",
       "      <td>50300</td>\n",
       "      <td>&gt;200.5</td>\n",
       "      <td>955759</td>\n",
       "      <td>163383</td>\n",
       "      <td>POINT (955759.000 163383.000)</td>\n",
       "    </tr>\n",
       "    <tr>\n",
       "      <th>...</th>\n",
       "      <td>...</td>\n",
       "      <td>...</td>\n",
       "      <td>...</td>\n",
       "      <td>...</td>\n",
       "      <td>...</td>\n",
       "    </tr>\n",
       "    <tr>\n",
       "      <th>295</th>\n",
       "      <td>46450</td>\n",
       "      <td>1</td>\n",
       "      <td>1035671</td>\n",
       "      <td>218150</td>\n",
       "      <td>POINT (1035671.000 218150.000)</td>\n",
       "    </tr>\n",
       "    <tr>\n",
       "      <th>296</th>\n",
       "      <td>46950</td>\n",
       "      <td>1</td>\n",
       "      <td>1030452</td>\n",
       "      <td>196724</td>\n",
       "      <td>POINT (1030452.000 196724.000)</td>\n",
       "    </tr>\n",
       "    <tr>\n",
       "      <th>297</th>\n",
       "      <td>47150</td>\n",
       "      <td>1</td>\n",
       "      <td>1033893</td>\n",
       "      <td>228531</td>\n",
       "      <td>POINT (1033893.000 228531.000)</td>\n",
       "    </tr>\n",
       "    <tr>\n",
       "      <th>298</th>\n",
       "      <td>50200</td>\n",
       "      <td>1</td>\n",
       "      <td>960455</td>\n",
       "      <td>169298</td>\n",
       "      <td>POINT (960455.000 169298.000)</td>\n",
       "    </tr>\n",
       "    <tr>\n",
       "      <th>299</th>\n",
       "      <td>50300</td>\n",
       "      <td>1</td>\n",
       "      <td>955759</td>\n",
       "      <td>163383</td>\n",
       "      <td>POINT (955759.000 163383.000)</td>\n",
       "    </tr>\n",
       "  </tbody>\n",
       "</table>\n",
       "<p>300 rows × 5 columns</p>\n",
       "</div>"
      ],
      "text/plain": [
       "    Sample Site Coliform (Quanti-Tray) (MPN /100mL)  X coordinate  \\\n",
       "0         13550                              >200.5       1008924   \n",
       "1         1SCH3                              >200.5       1013921   \n",
       "2         40200                              >200.5       1012206   \n",
       "3         40650                              >200.5       1018876   \n",
       "4         50300                              >200.5        955759   \n",
       "..          ...                                 ...           ...   \n",
       "295       46450                                   1       1035671   \n",
       "296       46950                                   1       1030452   \n",
       "297       47150                                   1       1033893   \n",
       "298       50200                                   1        960455   \n",
       "299       50300                                   1        955759   \n",
       "\n",
       "     Y coordinate                        geometry  \n",
       "0          250942  POINT (1008924.000 250942.000)  \n",
       "1          259223  POINT (1013921.000 259223.000)  \n",
       "2          222705  POINT (1012206.000 222705.000)  \n",
       "3          216530  POINT (1018876.000 216530.000)  \n",
       "4          163383   POINT (955759.000 163383.000)  \n",
       "..            ...                             ...  \n",
       "295        218150  POINT (1035671.000 218150.000)  \n",
       "296        196724  POINT (1030452.000 196724.000)  \n",
       "297        228531  POINT (1033893.000 228531.000)  \n",
       "298        169298   POINT (960455.000 169298.000)  \n",
       "299        163383   POINT (955759.000 163383.000)  \n",
       "\n",
       "[300 rows x 5 columns]"
      ]
     },
     "execution_count": 6,
     "metadata": {},
     "output_type": "execute_result"
    }
   ],
   "source": [
    "gdf"
   ]
  },
  {
   "cell_type": "code",
   "execution_count": 7,
   "metadata": {},
   "outputs": [
    {
     "data": {
      "text/plain": [
       "<AxesSubplot:>"
      ]
     },
     "execution_count": 7,
     "metadata": {},
     "output_type": "execute_result"
    },
    {
     "data": {
      "image/png": "[encoded data removed]",
      "text/plain": [
       "<Figure size 576x576 with 1 Axes>"
      ]
     },
     "metadata": {
      "needs_background": "light"
     },
     "output_type": "display_data"
    }
   ],
   "source": [
    "bouroughs = gpd.read_file('Borough Boundaries.geojson')\n",
    "fig, ax = plt.subplots(1, figsize=(8, 8))\n",
    "bouroughs.plot(ax=ax, color='white',edgecolor='black')\n",
    "gdf.plot(ax=ax,)"
   ]
  },
  {
   "cell_type": "code",
   "execution_count": 8,
   "metadata": {},
   "outputs": [
    {
     "data": {
      "text/html": [
       "<div>\n",
       "<style scoped>\n",
       "    .dataframe tbody tr th:only-of-type {\n",
       "        vertical-align: middle;\n",
       "    }\n",
       "\n",
       "    .dataframe tbody tr th {\n",
       "        vertical-align: top;\n",
       "    }\n",
       "\n",
       "    .dataframe thead th {\n",
       "        text-align: right;\n",
       "    }\n",
       "</style>\n",
       "<table border=\"1\" class=\"dataframe\">\n",
       "  <thead>\n",
       "    <tr style=\"text-align: right;\">\n",
       "      <th></th>\n",
       "      <th>Sample Site</th>\n",
       "      <th>Coliform (Quanti-Tray) (MPN /100mL)</th>\n",
       "      <th>X coordinate</th>\n",
       "      <th>Y coordinate</th>\n",
       "      <th>geometry</th>\n",
       "    </tr>\n",
       "  </thead>\n",
       "  <tbody>\n",
       "    <tr>\n",
       "      <th>0</th>\n",
       "      <td>13550</td>\n",
       "      <td>&gt;200.5</td>\n",
       "      <td>1008924</td>\n",
       "      <td>250942</td>\n",
       "      <td>POINT (-73.91081 40.85542)</td>\n",
       "    </tr>\n",
       "    <tr>\n",
       "      <th>1</th>\n",
       "      <td>1SCH3</td>\n",
       "      <td>&gt;200.5</td>\n",
       "      <td>1013921</td>\n",
       "      <td>259223</td>\n",
       "      <td>POINT (-73.89271 40.87813)</td>\n",
       "    </tr>\n",
       "    <tr>\n",
       "      <th>2</th>\n",
       "      <td>40200</td>\n",
       "      <td>&gt;200.5</td>\n",
       "      <td>1012206</td>\n",
       "      <td>222705</td>\n",
       "      <td>POINT (-73.89906 40.77791)</td>\n",
       "    </tr>\n",
       "    <tr>\n",
       "      <th>3</th>\n",
       "      <td>40650</td>\n",
       "      <td>&gt;200.5</td>\n",
       "      <td>1018876</td>\n",
       "      <td>216530</td>\n",
       "      <td>POINT (-73.87501 40.76093)</td>\n",
       "    </tr>\n",
       "    <tr>\n",
       "      <th>4</th>\n",
       "      <td>50300</td>\n",
       "      <td>&gt;200.5</td>\n",
       "      <td>955759</td>\n",
       "      <td>163383</td>\n",
       "      <td>POINT (-74.10262 40.61508)</td>\n",
       "    </tr>\n",
       "  </tbody>\n",
       "</table>\n",
       "</div>"
      ],
      "text/plain": [
       "  Sample Site Coliform (Quanti-Tray) (MPN /100mL)  X coordinate  Y coordinate  \\\n",
       "0       13550                              >200.5       1008924        250942   \n",
       "1       1SCH3                              >200.5       1013921        259223   \n",
       "2       40200                              >200.5       1012206        222705   \n",
       "3       40650                              >200.5       1018876        216530   \n",
       "4       50300                              >200.5        955759        163383   \n",
       "\n",
       "                     geometry  \n",
       "0  POINT (-73.91081 40.85542)  \n",
       "1  POINT (-73.89271 40.87813)  \n",
       "2  POINT (-73.89906 40.77791)  \n",
       "3  POINT (-73.87501 40.76093)  \n",
       "4  POINT (-74.10262 40.61508)  "
      ]
     },
     "execution_count": 8,
     "metadata": {},
     "output_type": "execute_result"
    }
   ],
   "source": [
    "gdf = gdf.to_crs(crs=4326)\n",
    "gdf.head()"
   ]
  },
  {
   "cell_type": "code",
   "execution_count": 9,
   "metadata": {},
   "outputs": [],
   "source": [
    "#gdf.plot(color='Coliform (Quanti-Tray) (MPN /100mL)') "
   ]
  },
  {
   "cell_type": "code",
   "execution_count": 10,
   "metadata": {},
   "outputs": [
    {
     "data": {
      "text/plain": [
       "<geopandas.plotting.GeoplotAccessor object at 0x7fae8bf24dc0>"
      ]
     },
     "execution_count": 10,
     "metadata": {},
     "output_type": "execute_result"
    }
   ],
   "source": [
    "gdf.plot"
   ]
  },
  {
   "cell_type": "code",
   "execution_count": 11,
   "metadata": {},
   "outputs": [
    {
     "data": {
      "text/plain": [
       "Index(['Sample Site', 'Coliform (Quanti-Tray) (MPN /100mL)', 'X coordinate',\n",
       "       'Y coordinate', 'geometry'],\n",
       "      dtype='object')"
      ]
     },
     "execution_count": 11,
     "metadata": {},
     "output_type": "execute_result"
    }
   ],
   "source": [
    "gdf.columns\n",
    "#Coliform (Quanti-Tray) (MPN /100mL)"
   ]
  },
  {
   "cell_type": "code",
   "execution_count": 12,
   "metadata": {},
   "outputs": [],
   "source": [
    "gdf['lon'] = gdf['geometry'].x\n",
    "gdf['lat'] = gdf['geometry'].y"
   ]
  },
  {
   "cell_type": "code",
   "execution_count": 13,
   "metadata": {},
   "outputs": [
    {
     "data": {
      "text/html": [
       "<div>\n",
       "<style scoped>\n",
       "    .dataframe tbody tr th:only-of-type {\n",
       "        vertical-align: middle;\n",
       "    }\n",
       "\n",
       "    .dataframe tbody tr th {\n",
       "        vertical-align: top;\n",
       "    }\n",
       "\n",
       "    .dataframe thead th {\n",
       "        text-align: right;\n",
       "    }\n",
       "</style>\n",
       "<table border=\"1\" class=\"dataframe\">\n",
       "  <thead>\n",
       "    <tr style=\"text-align: right;\">\n",
       "      <th></th>\n",
       "      <th>Sample Site</th>\n",
       "      <th>Coliform (Quanti-Tray) (MPN /100mL)</th>\n",
       "      <th>X coordinate</th>\n",
       "      <th>Y coordinate</th>\n",
       "      <th>geometry</th>\n",
       "      <th>lon</th>\n",
       "      <th>lat</th>\n",
       "    </tr>\n",
       "  </thead>\n",
       "  <tbody>\n",
       "    <tr>\n",
       "      <th>0</th>\n",
       "      <td>13550</td>\n",
       "      <td>&gt;200.5</td>\n",
       "      <td>1008924</td>\n",
       "      <td>250942</td>\n",
       "      <td>POINT (-73.91081 40.85542)</td>\n",
       "      <td>-73.910806</td>\n",
       "      <td>40.855418</td>\n",
       "    </tr>\n",
       "    <tr>\n",
       "      <th>1</th>\n",
       "      <td>1SCH3</td>\n",
       "      <td>&gt;200.5</td>\n",
       "      <td>1013921</td>\n",
       "      <td>259223</td>\n",
       "      <td>POINT (-73.89271 40.87813)</td>\n",
       "      <td>-73.892706</td>\n",
       "      <td>40.878131</td>\n",
       "    </tr>\n",
       "    <tr>\n",
       "      <th>2</th>\n",
       "      <td>40200</td>\n",
       "      <td>&gt;200.5</td>\n",
       "      <td>1012206</td>\n",
       "      <td>222705</td>\n",
       "      <td>POINT (-73.89906 40.77791)</td>\n",
       "      <td>-73.899060</td>\n",
       "      <td>40.777905</td>\n",
       "    </tr>\n",
       "    <tr>\n",
       "      <th>3</th>\n",
       "      <td>40650</td>\n",
       "      <td>&gt;200.5</td>\n",
       "      <td>1018876</td>\n",
       "      <td>216530</td>\n",
       "      <td>POINT (-73.87501 40.76093)</td>\n",
       "      <td>-73.875009</td>\n",
       "      <td>40.760933</td>\n",
       "    </tr>\n",
       "    <tr>\n",
       "      <th>4</th>\n",
       "      <td>50300</td>\n",
       "      <td>&gt;200.5</td>\n",
       "      <td>955759</td>\n",
       "      <td>163383</td>\n",
       "      <td>POINT (-74.10262 40.61508)</td>\n",
       "      <td>-74.102621</td>\n",
       "      <td>40.615079</td>\n",
       "    </tr>\n",
       "  </tbody>\n",
       "</table>\n",
       "</div>"
      ],
      "text/plain": [
       "  Sample Site Coliform (Quanti-Tray) (MPN /100mL)  X coordinate  Y coordinate  \\\n",
       "0       13550                              >200.5       1008924        250942   \n",
       "1       1SCH3                              >200.5       1013921        259223   \n",
       "2       40200                              >200.5       1012206        222705   \n",
       "3       40650                              >200.5       1018876        216530   \n",
       "4       50300                              >200.5        955759        163383   \n",
       "\n",
       "                     geometry        lon        lat  \n",
       "0  POINT (-73.91081 40.85542) -73.910806  40.855418  \n",
       "1  POINT (-73.89271 40.87813) -73.892706  40.878131  \n",
       "2  POINT (-73.89906 40.77791) -73.899060  40.777905  \n",
       "3  POINT (-73.87501 40.76093) -73.875009  40.760933  \n",
       "4  POINT (-74.10262 40.61508) -74.102621  40.615079  "
      ]
     },
     "execution_count": 13,
     "metadata": {},
     "output_type": "execute_result"
    }
   ],
   "source": [
    "gdf.head()"
   ]
  },
  {
   "cell_type": "code",
   "execution_count": 14,
   "metadata": {},
   "outputs": [],
   "source": [
    "gdf.drop('geometry',axis=1).to_csv('ColiformLatLong.csv')"
   ]
  },
  {
   "cell_type": "code",
   "execution_count": null,
   "metadata": {},
   "outputs": [],
   "source": []
  },
  {
   "cell_type": "markdown",
   "metadata": {},
   "source": [
    "# "
   ]
  }
 ],
 "metadata": {
  "kernelspec": {
   "display_name": "Python 3 (ipykernel)",
   "language": "python",
   "name": "python3"
  },
  "language_info": {
   "codemirror_mode": {
    "name": "ipython",
    "version": 3
   },
   "file_extension": ".py",
   "mimetype": "text/x-python",
   "name": "python",
   "nbconvert_exporter": "python",
   "pygments_lexer": "ipython3",
   "version": "3.9.12"
  },
  "vscode": {
   "interpreter": {
    "hash": "aee8b7b246df8f9039afb4144a1f6fd8d2ca17a180786b69acc140d282b71a49"
   }
  }
 },
 "nbformat": 4,
 "nbformat_minor": 2
}
